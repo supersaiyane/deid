{
 "cells": [
  {
   "cell_type": "markdown",
   "metadata": {},
   "source": [
    "## merge note lines into full note"
   ]
  },
  {
   "cell_type": "markdown",
   "metadata": {},
   "source": [
    "#### CONFIGURATIONS"
   ]
  },
  {
   "cell_type": "code",
   "execution_count": null,
   "metadata": {},
   "outputs": [],
   "source": [
    "INPUT_DATASET=\"<bigquery-project-id>:i2b2_nlp_data\"\n",
    "RESULT_DATASET=\"<bigquery-project-id>:i2b2_nlp_data\"\n",
    "TARGET_GCS_BUCKET_SHC=\"<output-bucket>\"\n",
    "\n",
    "GOOGLE_CREDENTIAL=\"service-account-sample-key.json\"\n",
    "\n",
    "#DATAFLOW CONFIG\n",
    "DATAFLOW_RUNNER_GCS_BUCKET=\"<gcs-bucket-for-staging-and-temp-files>\"\n",
    "DATAFLOW_PROJECT=\"<dataflow-project-id>\"\n",
    "DATAFLOW_DLP_PROJ=\"<dlp-project-id>\"\n",
    "DATAFLOW_SERVICEACCT=\"<service-account-email>\"\n",
    "DATAFLOW_MACHINE=\"n1-standard-8\"\n",
    "DATAFLOW_WORKER=\"1\"\n",
    "\n",
    "#END OF CONFIGURATION\n",
    "import subprocess\n",
    "import os\n",
    "import json\n",
    "import sys\n",
    "os.environ['GOOGLE_APPLICATION_CREDENTIALS'] = str(GOOGLE_CREDENTIAL)\n"
   ]
  },
  {
   "cell_type": "markdown",
   "metadata": {},
   "source": [
    "#### EXPORT DEID INPUT DATA TO GCS \n",
    "Optional. Deid can also directly read from BigQuery"
   ]
  },
  {
   "cell_type": "code",
   "execution_count": null,
   "metadata": {},
   "outputs": [],
   "source": [
    "%%bash -s \"$INPUT_DATASET\" \"$TARGET_GCS_BUCKET_SHC\"\n",
    "echo \"#### NOTE ###\"\n",
    "echo \"bq --location=US extract --destination_format NEWLINE_DELIMITED_JSON '$1.training_data' $2/input/i2b2/training_data/text-input-*.json\"\n",
    "echo \"bq --location=US extract --destination_format NEWLINE_DELIMITED_JSON '$1.testing_data' $2/input/i2b2/testing_data/text-input-*.json\"\n"
   ]
  },
  {
   "cell_type": "markdown",
   "metadata": {},
   "source": [
    "### run deid on DataFlow"
   ]
  },
  {
   "cell_type": "code",
   "execution_count": null,
   "metadata": {},
   "outputs": [],
   "source": [
    "%%bash -s \"$TARGET_GCS_BUCKET_SHC\" \"$DATAFLOW_RUNNER_GCS_BUCKET\" \"$DATAFLOW_PROJECT\" \"$DATAFLOW_DLP_PROJ\" \"$DATAFLOW_SERVICEACCT\" \"$DATAFLOW_MACHINE\" \"$DATAFLOW_WORKER\" \n",
    "cd ..\n",
    "CMDPRE=\"mvn -Pdataflow-runner compile exec:java -Dexec.mainClass=com.github.susom.starr.deid.Main -Dexec.args=\\\"--project=$3 --dlpProject=$4 --serviceAccount=$5 --stagingLocation=$2/staging --gcpTempLocation=$2/temp --tempLocation=$2/temp --region=us-west1 --workerMachineType=$6 --maxNumWorkers=$7 --diskSizeGb=100 --runner=DataflowRunner --deidConfigFile=deid_config_general.yaml --inputType=gcp_gcs  \"\n",
    "echo \"#### NOTE ####\"\n",
    "echo \"$CMDPRE --textIdFields=\\\"note_id\\\" --textInputFields=\\\"note_text\\\" --inputResource=$1/input/i2b2/training_data/text-input-*.json --outputResource=$1/i2b2/training_data/DEID_result\\\"\"\n",
    "echo \"$CMDPRE --textIdFields=\\\"note_id\\\" --textInputFields=\\\"note_text\\\" --inputResource=$1/input/i2b2/testing_data/text-input-*.json --outputResource=$2/i2b2/testing_data/DEID_result\\\"\"\n"
   ]
  },
  {
   "cell_type": "markdown",
   "metadata": {},
   "source": [
    "### load result to BigQuery"
   ]
  },
  {
   "cell_type": "code",
   "execution_count": null,
   "metadata": {},
   "outputs": [],
   "source": [
    "%%bash -s \"$TARGET_GCS_BUCKET_SHC\" \"$RESULT_DATASET\"\n",
    "cd ..\n",
    "CMDPRE=\"bq --location=US load --autodetect  --source_format=NEWLINE_DELIMITED_JSON \"\n",
    "echo \"#### NOTE ####\"\n",
    "echo \"$CMDPRE  $2.training_data_deid \\\"$1/i2b2/training_data/DEID_result/DeidNote-*\\\" \"\n",
    "echo \"$CMDPRE $2.testing_data_deid \\\"$1/i2b2/testing_data/DEID_result/DeidNote-*\\\" \"\n"
   ]
  },
  {
   "cell_type": "code",
   "execution_count": null,
   "metadata": {},
   "outputs": [],
   "source": []
  }
 ],
 "metadata": {
  "kernelspec": {
   "display_name": "Python 3",
   "language": "python",
   "name": "python3"
  },
  "language_info": {
   "codemirror_mode": {
    "name": "ipython",
    "version": 3
   },
   "file_extension": ".py",
   "mimetype": "text/x-python",
   "name": "python",
   "nbconvert_exporter": "python",
   "pygments_lexer": "ipython3",
   "version": "3.7.1"
  }
 },
 "nbformat": 4,
 "nbformat_minor": 2
}

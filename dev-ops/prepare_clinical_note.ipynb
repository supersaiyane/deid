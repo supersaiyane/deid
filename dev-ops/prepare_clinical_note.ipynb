{
 "cells": [
  {
   "cell_type": "markdown",
   "metadata": {},
   "source": [
    "## Step 1 : Data Preparation"
   ]
  },
  {
   "cell_type": "markdown",
   "metadata": {},
   "source": [
    "#### CONFIGURATIONS"
   ]
  },
  {
   "cell_type": "code",
   "execution_count": null,
   "metadata": {},
   "outputs": [],
   "source": [
    "CLARITY_DATASET_SHC=\"<bigquery-project-id>:<source-dataset-shc>\"\n",
    "CLARITY_DATASET_LPCH=\"<bigquery-project-id>:<source-dataset-lpch>\"\n",
    "\n",
    "DATAPREP_DATASET_SHC=\"<bigquery-project-id>:<dataprep-dataset-shc>\"\n",
    "DATAPREP_DATASET_LPCH=\"<bigquery-project-id>:<dataprep-dataset-lpch>\"\n",
    "\n",
    "RESULT_DATASET_SHC=\"<bigquery-project-id>:<result-dataset-shc>\"\n",
    "RESULT_DATASET_LPCH=\"<bigquery-project-id>:<result-dataset-lpch>\"\n",
    "\n",
    "TARGET_GCS_BUCKET_SHC=\"<result-gcs-bucket-sch>\"\n",
    "TARGET_GCS_BUCKET_LPCH=\"<result-gcs-bucket-lpch>\"\n",
    "\n",
    "GOOGLE_CREDENTIAL=\"service-account-sample-key.json\"\n",
    "\n",
    "#DATAFLOW CONFIG\n",
    "DATAFLOW_RUNNER_GCS_BUCKET=\"<gcs-bucket-for-staging-and-temp-files>\"\n",
    "DATAFLOW_PROJECT=\"<dataflow-project-id>\"\n",
    "DATAFLOW_DLP_PROJ=\"<dlp-project-id>\"\n",
    "DATAFLOW_SERVICEACCT=\"<service-account-email>\"\n",
    "DATAFLOW_MACHINE=\"n1-standard-8\"\n",
    "DATAFLOW_WORKER=\"200\"\n",
    "\n",
    "#RUN VERSION\n",
    "RUN_VERSION=\"_v2\"\n",
    "\n",
    "#END OF CONFIGURATION\n",
    "import subprocess\n",
    "import os\n",
    "import json\n",
    "import sys\n",
    "os.environ['GOOGLE_APPLICATION_CREDENTIALS'] = str(GOOGLE_CREDENTIAL)\n"
   ]
  },
  {
   "cell_type": "code",
   "execution_count": null,
   "metadata": {},
   "outputs": [],
   "source": [
    "%%bash -s \"$DATAFLOW_PROJECT\"\n",
    "gcloud config set project $1"
   ]
  },
  {
   "cell_type": "markdown",
   "metadata": {},
   "source": [
    "#### BUILD PHI TABLE"
   ]
  },
  {
   "cell_type": "code",
   "execution_count": null,
   "metadata": {
    "scrolled": true
   },
   "outputs": [],
   "source": [
    "%%bash -s \"$CLARITY_DATASET_SHC\" \"$CLARITY_DATASET_LPCH\" \"$DATAPREP_DATASET_SHC\" \"$DATAPREP_DATASET_LPCH\" \"$TARGET_GCS_BUCKET_SHC\" \"$TARGET_GCS_BUCKET_LPCH\" \"$DATAFLOW_RUNNER_GCS_BUCKET\"\n",
    "echo \"bash bq__merge_phi.sh $(echo $1 | sed -e 's/[:]/\\./') $(echo $3 | sed -e 's/[:]/\\./') $3.PHI_MERGED\"\n",
    "echo \"bash bq__merge_phi.sh $(echo $2 | sed -e 's/[:]/\\./') $(echo $4 | sed -e 's/[:]/\\./') $4.PHI_MERGED\"\n",
    "\n",
    "#or copy existing phi_merged\n",
    "echo \"bq cp som-rit-phi-starr-dev:rit_phi_clarity_deid_shc.PHI_MERGED $3.PHI_MERGED\"\n",
    "echo \"bq cp som-rit-phi-starr-dev:rit_phi_clarity_deid_lpch.PHI_MERGED $4.PHI_MERGED\"\n",
    "#or copy existing EMERGENCY_CONTACTS\n",
    "echo \"bq cp som-rit-phi-starr-dev:rit_phi_clarity_deid_shc.CLARITY_EMP $3.CLARITY_EMP\"\n",
    "echo \"bq cp som-rit-phi-starr-dev:rit_phi_clarity_deid_lpch.CLARITY_EMP $4.CLARITY_EMP\"\n"
   ]
  },
  {
   "cell_type": "markdown",
   "metadata": {},
   "source": [
    "#### MERGE LINES for NOTE, IMPRESSION, NARRATIVE"
   ]
  },
  {
   "cell_type": "code",
   "execution_count": null,
   "metadata": {},
   "outputs": [],
   "source": [
    "%%bash -s \"$CLARITY_DATASET_SHC\" \"$CLARITY_DATASET_LPCH\" \"$DATAPREP_DATASET_SHC\" \"$DATAPREP_DATASET_LPCH\" \"$TARGET_GCS_BUCKET_SHC\" \"$TARGET_GCS_BUCKET_LPCH\" \"$DATAFLOW_RUNNER_GCS_BUCKET\"\n",
    "echo \"#### NOTE ###\"\n",
    "echo \"bash bq__merge_note.sh $(echo $1 | sed -e 's/[:]/\\./') $(echo $3 | sed -e 's/[:]/\\./') $3.HNO_NOTE_TEXT_MERGED\"\n",
    "echo \"bash bq__merge_note.sh $(echo $2 | sed -e 's/[:]/\\./') $(echo $4 | sed -e 's/[:]/\\./') $4.HNO_NOTE_TEXT_MERGED\"\n",
    "echo \"#### IMPRESSION ###\"\n",
    "echo \"bash bq__merge_impression.sh $(echo $1 | sed -e 's/[:]/\\./') $(echo $3 | sed -e 's/[:]/\\./') $3.ORDER_IMPRESSION_MERGED\"\n",
    "echo \"bash bq__merge_impression.sh $(echo $2 | sed -e 's/[:]/\\./') $(echo $4 | sed -e 's/[:]/\\./') $4.ORDER_IMPRESSION_MERGED\"\n",
    "echo \"#### NARRATIVE ###\"\n",
    "echo \"bash bq__merge_narrative.sh $(echo $1 | sed -e 's/[:]/\\./') $(echo $3 | sed -e 's/[:]/\\./') $3.ORDER_NARRATIVE_MERGED\"\n",
    "echo \"bash bq__merge_narrative.sh $(echo $2 | sed -e 's/[:]/\\./') $(echo $4 | sed -e 's/[:]/\\./') $4.ORDER_NARRATIVE_MERGED\"\n",
    "\n"
   ]
  },
  {
   "cell_type": "markdown",
   "metadata": {},
   "source": [
    "#### PREPARE DEID INPUT DATA for NOTE, ENCOUNTER,IMPRESSION,NARRATIVE"
   ]
  },
  {
   "cell_type": "code",
   "execution_count": null,
   "metadata": {
    "scrolled": true
   },
   "outputs": [],
   "source": [
    "%%bash -s \"$CLARITY_DATASET_SHC\" \"$CLARITY_DATASET_LPCH\" \"$DATAPREP_DATASET_SHC\" \"$DATAPREP_DATASET_LPCH\" \"$TARGET_GCS_BUCKET_SHC\" \"$TARGET_GCS_BUCKET_LPCH\" \"$DATAFLOW_RUNNER_GCS_BUCKET\"\n",
    "echo \"#### NOTE ###\"\n",
    "echo \"bash bq_dataflow_prep_note.sh $(echo $3 | sed -e 's/[:]/\\./')  $3.HNO_NOTE_TEXT_PHI_MERGED\"\n",
    "echo \"bash bq_dataflow_prep_note.sh $(echo $4 | sed -e 's/[:]/\\./')  $4.HNO_NOTE_TEXT_PHI_MERGED\"\n",
    "echo \"#### ENCOUNTER ###\"\n",
    "echo \"bash bq_dataflow_prep_encounter.sh $(echo $1 | sed -e 's/[:]/\\./') $(echo $3 | sed -e 's/[:]/\\./')  $3.PAT_ENC_RSN_VISIT_PHI\"\n",
    "echo \"bash bq_dataflow_prep_encounter.sh $(echo $2 | sed -e 's/[:]/\\./') $(echo $4 | sed -e 's/[:]/\\./')  $4.PAT_ENC_RSN_VISIT_PHI\"\n",
    "echo \"#### IMPRESSION ###\"\n",
    "echo \"bash bq_dataflow_prep_impression.sh $(echo $1 | sed -e 's/[:]/\\./') $(echo $3 | sed -e 's/[:]/\\./')  $3.ORDER_IMPRESSION_PHI_MERGED\"\n",
    "echo \"bash bq_dataflow_prep_impression.sh $(echo $2 | sed -e 's/[:]/\\./') $(echo $4 | sed -e 's/[:]/\\./')  $4.ORDER_IMPRESSION_PHI_MERGED\"\n",
    "echo \"#### NARRATIVE ###\"\n",
    "echo \"bash bq_dataflow_prep_narrative.sh $(echo $1 | sed -e 's/[:]/\\./') $(echo $3 | sed -e 's/[:]/\\./')  $3.ORDER_NARRATIVE_PHI_MERGED\"\n",
    "echo \"bash bq_dataflow_prep_narrative.sh $(echo $2 | sed -e 's/[:]/\\./') $(echo $4 | sed -e 's/[:]/\\./')  $4.ORDER_NARRATIVE_PHI_MERGED\"\n",
    "echo \"#### OR_LOG_ALL_PROC ###\"\n",
    "echo \"bash bq_dataflow_prep_or_log_all_proc.sh $(echo $1 | sed -e 's/[:]/\\./') $(echo $3 | sed -e 's/[:]/\\./')  $3.OR_LOG_ALL_PROC_PHI\"\n",
    "echo \"bash bq_dataflow_prep_or_log_all_proc.sh $(echo $2 | sed -e 's/[:]/\\./') $(echo $4 | sed -e 's/[:]/\\./')  $4.OR_LOG_ALL_PROC_PHI\"\n",
    "echo \"#### IP_FLWSHT_MEAS ###\"\n",
    "echo \"bash bq_dataflow_prep_flwsht_meas_comment.sh $(echo $1 | sed -e 's/[:]/\\./') $(echo $3 | sed -e 's/[:]/\\./')  $3.IP_FLWSHT_MEAS_COMMENT_PHI\"\n",
    "echo \"bash bq_dataflow_prep_flwsht_meas_comment.sh $(echo $2 | sed -e 's/[:]/\\./') $(echo $4 | sed -e 's/[:]/\\./')  $4.IP_FLWSHT_MEAS_COMMENT_PHI\"\n",
    "echo \"#### ORDER_RES_COMP_CMT ###\"\n",
    "echo \"bash bq_dataflow_prep_order_res_comp_cmt.sh $(echo $1 | sed -e 's/[:]/\\./') $(echo $3 | sed -e 's/[:]/\\./')  $3.ORDER_RES_COMP_CMT_PHI\"\n",
    "echo \"bash bq_dataflow_prep_order_res_comp_cmt.sh $(echo $2 | sed -e 's/[:]/\\./') $(echo $4 | sed -e 's/[:]/\\./')  $4.ORDER_RES_COMP_CMT_PHI\"\n",
    "echo \"###END###\"\n",
    "\n"
   ]
  },
  {
   "cell_type": "markdown",
   "metadata": {},
   "source": [
    "#### EXPORT DEID INPUT DATA TO GCS \n",
    "Optional. Deid can also directly read from BigQuery"
   ]
  },
  {
   "cell_type": "code",
   "execution_count": null,
   "metadata": {},
   "outputs": [],
   "source": [
    "%%bash -s \"$CLARITY_DATASET_SHC\" \"$CLARITY_DATASET_LPCH\" \"$DATAPREP_DATASET_SHC\" \"$DATAPREP_DATASET_LPCH\" \"$TARGET_GCS_BUCKET_SHC\" \"$TARGET_GCS_BUCKET_LPCH\" \"$DATAFLOW_RUNNER_GCS_BUCKET\" \"$RUN_VERSION\"\n",
    "echo \"#### NOTE ###\"\n",
    "echo \"bq --location=US extract --destination_format NEWLINE_DELIMITED_JSON '$3.HNO_NOTE_TEXT_PHI_MERGED' $5/input$8/HNO_NOTE_TEXT_PHI_MERGED/note-input-*.json\"\n",
    "echo \"bq --location=US extract --destination_format NEWLINE_DELIMITED_JSON '$4.HNO_NOTE_TEXT_PHI_MERGED' $6/input$8/HNO_NOTE_TEXT_PHI_MERGED/note-input-*.json\"\n",
    "echo \"#### ENCOUNTER ###\"\n",
    "echo \"bq --location=US extract --destination_format NEWLINE_DELIMITED_JSON '$3.PAT_ENC_RSN_VISIT_PHI' $5/input$8/PAT_ENC_RSN_VISIT_PHI/note-input-*.json\"\n",
    "echo \"bq --location=US extract --destination_format NEWLINE_DELIMITED_JSON '$4.PAT_ENC_RSN_VISIT_PHI' $6/input$8/PAT_ENC_RSN_VISIT_PHI/note-input-*.json\"\n",
    "echo \"#### IMPRESSION ###\"\n",
    "echo \"bq --location=US extract --destination_format NEWLINE_DELIMITED_JSON '$3.ORDER_IMPRESSION_PHI_MERGED' $5/input$8/ORDER_IMPRESSION_PHI_MERGED/note-input-*.json\"\n",
    "echo \"bq --location=US extract --destination_format NEWLINE_DELIMITED_JSON '$4.ORDER_IMPRESSION_PHI_MERGED' $6/input$8/ORDER_IMPRESSION_PHI_MERGED/note-input-*.json\"\n",
    "echo \"#### NARRATIVE ###\"\n",
    "echo \"bq --location=US extract --destination_format NEWLINE_DELIMITED_JSON '$3.ORDER_NARRATIVE_PHI_MERGED' $5/input$8/ORDER_NARRATIVE_PHI_MERGED/note-input-*.json\"\n",
    "echo \"bq --location=US extract --destination_format NEWLINE_DELIMITED_JSON '$4.ORDER_NARRATIVE_PHI_MERGED' $6/input$8/ORDER_NARRATIVE_PHI_MERGED/note-input-*.json\"\n",
    "echo \"#### OR_LOG ###\"\n",
    "echo \"bq --location=US extract --destination_format NEWLINE_DELIMITED_JSON '$3.OR_LOG_ALL_PROC_PHI' $5/input$8/OR_LOG_ALL_PROC_PHI/note-input-*.json\"\n",
    "echo \"bq --location=US extract --destination_format NEWLINE_DELIMITED_JSON '$4.OR_LOG_ALL_PROC_PHI' $6/input$8/OR_LOG_ALL_PROC_PHI/note-input-*.json\"\n",
    "echo \"#### FLWSHT ###\"\n",
    "echo \"bq --location=US extract --destination_format NEWLINE_DELIMITED_JSON '$3.IP_FLWSHT_MEAS_COMMENT_PHI' $5/input$8/IP_FLWSHT_MEAS_COMMENT_PHI/note-input-*.json\"\n",
    "echo \"bq --location=US extract --destination_format NEWLINE_DELIMITED_JSON '$4.IP_FLWSHT_MEAS_COMMENT_PHI' $6/input$8/IP_FLWSHT_MEAS_COMMENT_PHI/note-input-*.json\"\n",
    "echo \"#### ORDER_RES_COMP_CMT ###\"\n",
    "echo \"bq --location=US extract --destination_format NEWLINE_DELIMITED_JSON '$3.ORDER_RES_COMP_CMT_PHI' $5/input$8/ORDER_RES_COMP_CMT_PHI/note-input-*.json\"\n",
    "echo \"bq --location=US extract --destination_format NEWLINE_DELIMITED_JSON '$4.ORDER_RES_COMP_CMT_PHI' $6/input$8/ORDER_RES_COMP_CMT_PHI/note-input-*.json\"\n",
    "echo \"###END###\""
   ]
  },
  {
   "cell_type": "markdown",
   "metadata": {},
   "source": [
    "## Step 2 : Deid Process\n",
    "### run deid on DataFlow"
   ]
  },
  {
   "cell_type": "code",
   "execution_count": null,
   "metadata": {},
   "outputs": [],
   "source": [
    "%%bash -s \"$TARGET_GCS_BUCKET_SHC\" \"$TARGET_GCS_BUCKET_LPCH\" \"$DATAFLOW_RUNNER_GCS_BUCKET\" \"$DATAFLOW_PROJECT\" \"$DATAFLOW_DLP_PROJ\" \"$DATAFLOW_SERVICEACCT\" \"$DATAFLOW_MACHINE\" \"$DATAFLOW_WORKER\"  \"$RUN_VERSION\"\n",
    "cd ..\n",
    "echo \"export GOOGLE_APPLICATION_CREDENTIALS=/Users/wenchengli/dev/servers/gcp/som-rit-phi-starr-dev/som-rit-phi-starr-dev-abb03b2ca689.json\"\n",
    "CMDPRE=\"mvn -Pdataflow-runner compile exec:java -Dexec.mainClass=com.github.susom.starr.deid.Main -Dexec.args=\\\"--project=$4 --dlpProject=$5 --serviceAccount=$6 --stagingLocation=$3/staging --gcpTempLocation=$3/temp --tempLocation=$3/temp --region=us-west1 --workerMachineType=$7 --maxNumWorkers=$8 --diskSizeGb=100 --runner=DataflowRunner --deidConfigFile=deid_config_clarity.yaml --inputType=gcp_gcs  \"\n",
    "echo \"#### NOTE ####\"\n",
    "echo \"$CMDPRE --textIdFields=\\\"note_id,note_csn_id\\\" --textInputFields=\\\"fullnote\\\" --inputResource=$1/input_v2/HNO_NOTE_TEXT_PHI_MERGED/note-input-*.json --outputResource=$1/NOTE_DEID_result$9\\\"\"\n",
    "echo \"$CMDPRE --textIdFields=\\\"note_id,note_csn_id\\\" --textInputFields=\\\"fullnote\\\" --inputResource=$2/input_v2/HNO_NOTE_TEXT_PHI_MERGED/note-input-*.json --outputResource=$2/NOTE_DEID_result$9\\\"\"\n",
    "echo \"#### PAT_ENC_RSN_VISIT(ENCOUNTER) ####\"\n",
    "echo \"$CMDPRE --textIdFields=\\\"PAT_ENC_CSN_ID,LINE\\\" --textInputFields=\\\"COMMENTS\\\" --inputResource=$1/input_v2/PAT_ENC_RSN_VISIT_PHI/note-input-*.json --outputResource=$1/PAT_ENC_RSN_VISIT_DEID_result$9\\\"\"\n",
    "echo \"$CMDPRE --textIdFields=\\\"PAT_ENC_CSN_ID,LINE\\\" --textInputFields=\\\"COMMENTS\\\" --inputResource=$2/input_v2/PAT_ENC_RSN_VISIT_PHI/note-input-*.json --outputResource=$2/PAT_ENC_RSN_VISIT_DEID_result$9\\\"\"\n",
    "echo \"#### ORDER_IMPRESSION ####\"\n",
    "echo \"$CMDPRE --textIdFields=\\\"ORDER_PROC_ID\\\" --textInputFields=\\\"FULL_IMPRESSION\\\" --inputResource=$1/input_v2/ORDER_IMPRESSION_PHI_MERGED/note-input-*.json --outputResource=$1/ORDER_IMPRESSION_DEID_result$9\\\"\"\n",
    "echo \"$CMDPRE --textIdFields=\\\"ORDER_PROC_ID\\\" --textInputFields=\\\"FULL_IMPRESSION\\\" --inputResource=$2/input_v2/ORDER_IMPRESSION_PHI_MERGED/note-input-*.json --outputResource=$2/ORDER_IMPRESSION_DEID_result$9\\\"\"\n",
    "echo \"#### ORDER_NARRATIVE ####\"\n",
    "echo \"$CMDPRE --textIdFields=\\\"ORDER_PROC_ID\\\" --textInputFields=\\\"FULL_NARRATIVE\\\" --inputResource=$1/input_v2/ORDER_NARRATIVE_PHI_MERGED/note-input-*.json --outputResource=$1/ORDER_NARRATIVE_DEID_result$9\\\"\"\n",
    "echo \"$CMDPRE --textIdFields=\\\"ORDER_PROC_ID\\\" --textInputFields=\\\"FULL_NARRATIVE\\\" --inputResource=$2/input_v2/ORDER_NARRATIVE_PHI_MERGED/note-input-*.json --outputResource=$2/ORDER_NARRATIVE_DEID_result$9\\\"\"\n",
    "echo \"#### OR_LOG ####\"\n",
    "echo \"$CMDPRE --textIdFields=\\\"LOG_ID,LINE\\\" --textInputFields=\\\"COMMENTS\\\" --inputResource=$1/input_v2/OR_LOG_ALL_PROC_PHI/note-input-*.json --outputResource=$1/OR_LOG_ALL_PROC_DEID_result$9\\\"\"\n",
    "echo \"$CMDPRE --textIdFields=\\\"LOG_ID,LINE\\\" --textInputFields=\\\"COMMENTS\\\" --inputResource=$2/input_v2/OR_LOG_ALL_PROC_PHI/note-input-*.json --outputResource=$2/OR_LOG_ALL_PROC_DEID_result$9\\\"\"\n",
    "echo \"#### FLWSHT ####\"\n",
    "echo \"$CMDPRE --textIdFields=\\\"FSD_ID,LINE\\\" --textInputFields=\\\"MEAS_VALUE,meas_comment\\\" --inputResource=$1/input_v2/IP_FLWSHT_MEAS_COMMENT_PHI/note-input-*.json --outputResource=$1/IP_FLWSHT_MEAS_DEID_result$9\\\"\"\n",
    "echo \"$CMDPRE --textIdFields=\\\"FSD_ID,LINE\\\" --textInputFields=\\\"MEAS_VALUE,meas_comment\\\" --inputResource=$2/input_v2/IP_FLWSHT_MEAS_COMMENT_PHI/note-input-*.json --outputResource=$2/IP_FLWSHT_MEAS_DEID_result$9\\\"\"\n",
    "echo \"#### ORDER_RES_COMP_CMT ####\"\n",
    "echo \"$CMDPRE --textIdFields=\\\"ORDER_ID,CONTACT_DATE_REAL,LINE_COMP,LINE_COMMENT\\\" --textInputFields=\\\"RESULTS_COMP_CMT\\\" --inputResource=$1/input_v2/ORDER_RES_COMP_CMT_PHI/note-input-*.json --outputResource=$1/ORDER_RES_COMP_CMT_DEID_result$9\\\"\"\n",
    "echo \"$CMDPRE --textIdFields=\\\"ORDER_ID,CONTACT_DATE_REAL,LINE_COMP,LINE_COMMENT\\\" --textInputFields=\\\"RESULTS_COMP_CMT\\\" --inputResource=$2/input_v2/ORDER_RES_COMP_CMT_PHI/note-input-*.json --outputResource=$2/ORDER_RES_COMP_CMT_DEID_result$9\\\"\"\n",
    "echo \"###END###\""
   ]
  },
  {
   "cell_type": "markdown",
   "metadata": {},
   "source": [
    "Run as jar"
   ]
  },
  {
   "cell_type": "code",
   "execution_count": null,
   "metadata": {},
   "outputs": [],
   "source": [
    "%%bash -s \"$TARGET_GCS_BUCKET_SHC\" \"$TARGET_GCS_BUCKET_LPCH\" \"$DATAFLOW_RUNNER_GCS_BUCKET\" \"$DATAFLOW_PROJECT\" \"$DATAFLOW_DLP_PROJ\" \"$DATAFLOW_SERVICEACCT\" \"$DATAFLOW_MACHINE\" \"$DATAFLOW_WORKER\"  \"$RUN_VERSION\"\n",
    "cd ..\n",
    "CMDPRE=\"java -jar /Users/wenchengli/dev/github/starr-core/deid/target/deid-2.0.jar --project=$4 --dlpProject=$5 --serviceAccount=$6 --stagingLocation=$3/staging --gcpTempLocation=$3/temp --tempLocation=$3/temp --region=us-west1 --workerMachineType=$7 --maxNumWorkers=$8 --diskSizeGb=100 --runner=DataflowRunner --deidConfigFile=deid_config_clarity.yaml --inputType=gcp_gcs  \"\n",
    "echo \"#### NOTE ####\"\n",
    "echo \"$CMDPRE --textIdFields=\\\"note_id,note_csn_id\\\" --textInputFields=\\\"fullnote\\\" --inputResource=$1/input_v2/HNO_NOTE_TEXT_PHI_MERGED/note-input-*.json --outputResource=$1/NOTE_DEID_result$9\"\n",
    "echo \"$CMDPRE --textIdFields=\\\"note_id,note_csn_id\\\" --textInputFields=\\\"fullnote\\\" --inputResource=$2/input_v2/HNO_NOTE_TEXT_PHI_MERGED/note-input-*.json --outputResource=$2/NOTE_DEID_result$9\"\n",
    "echo \"#### PAT_ENC_RSN_VISIT(ENCOUNTER) ####\"\n",
    "echo \"$CMDPRE --textIdFields=\\\"PAT_ENC_CSN_ID,LINE\\\" --textInputFields=\\\"COMMENTS\\\" --inputResource=$1/input_v2/PAT_ENC_RSN_VISIT_PHI/note-input-*.json --outputResource=$1/PAT_ENC_RSN_VISIT_DEID_result$9\"\n",
    "echo \"$CMDPRE --textIdFields=\\\"PAT_ENC_CSN_ID,LINE\\\" --textInputFields=\\\"COMMENTS\\\" --inputResource=$2/input_v2/PAT_ENC_RSN_VISIT_PHI/note-input-*.json --outputResource=$2/PAT_ENC_RSN_VISIT_DEID_result$9\"\n",
    "echo \"#### ORDER_IMPRESSION ####\"\n",
    "echo \"$CMDPRE --textIdFields=\\\"ORDER_PROC_ID\\\" --textInputFields=\\\"FULL_IMPRESSION\\\" --inputResource=$1/input_v2/ORDER_IMPRESSION_PHI_MERGED/note-input-*.json --outputResource=$1/ORDER_IMPRESSION_DEID_result$9\"\n",
    "echo \"$CMDPRE --textIdFields=\\\"ORDER_PROC_ID\\\" --textInputFields=\\\"FULL_IMPRESSION\\\" --inputResource=$2/input_v2/ORDER_IMPRESSION_PHI_MERGED/note-input-*.json --outputResource=$2/ORDER_IMPRESSION_DEID_result$9\"\n",
    "echo \"#### ORDER_NARRATIVE ####\"\n",
    "echo \"$CMDPRE --textIdFields=\\\"ORDER_PROC_ID\\\" --textInputFields=\\\"FULL_NARRATIVE\\\" --inputResource=$1/input_v2/ORDER_NARRATIVE_PHI_MERGED/note-input-*.json --outputResource=$1/ORDER_NARRATIVE_DEID_result$9\"\n",
    "echo \"$CMDPRE --textIdFields=\\\"ORDER_PROC_ID\\\" --textInputFields=\\\"FULL_NARRATIVE\\\" --inputResource=$2/input_v2/ORDER_NARRATIVE_PHI_MERGED/note-input-*.json --outputResource=$2/ORDER_NARRATIVE_DEID_result$9\"\n",
    "echo \"#### OR_LOG ####\"\n",
    "echo \"$CMDPRE --textIdFields=\\\"LOG_ID,LINE\\\" --textInputFields=\\\"COMMENTS\\\" --inputResource=$1/input_v2/OR_LOG_ALL_PROC_PHI/note-input-*.json --outputResource=$1/OR_LOG_ALL_PROC_DEID_result$9\"\n",
    "echo \"$CMDPRE --textIdFields=\\\"LOG_ID,LINE\\\" --textInputFields=\\\"COMMENTS\\\" --inputResource=$2/input_v2/OR_LOG_ALL_PROC_PHI/note-input-*.json --outputResource=$2/OR_LOG_ALL_PROC_DEID_result$9\"\n",
    "echo \"#### FLWSHT ####\"\n",
    "echo \"$CMDPRE --textIdFields=\\\"FSD_ID,LINE\\\" --textInputFields=\\\"MEAS_VALUE,meas_comment\\\" --inputResource=$1/input_v2/IP_FLWSHT_MEAS_COMMENT_PHI/note-input-*.json --outputResource=$1/IP_FLWSHT_MEAS_DEID_result$9\"\n",
    "echo \"$CMDPRE --textIdFields=\\\"FSD_ID,LINE\\\" --textInputFields=\\\"MEAS_VALUE,meas_comment\\\" --inputResource=$2/input_v2/IP_FLWSHT_MEAS_COMMENT_PHI/note-input-*.json --outputResource=$2/IP_FLWSHT_MEAS_DEID_result$9\"\n",
    "echo \"#### ORDER_RES_COMP_CMT ####\"\n",
    "echo \"$CMDPRE --textIdFields=\\\"ORDER_ID,CONTACT_DATE_REAL,LINE_COMP,LINE_COMMENT\\\" --textInputFields=\\\"RESULTS_COMP_CMT\\\" --inputResource=$1/input_v2/ORDER_RES_COMP_CMT_PHI/note-input-*.json --outputResource=$1/ORDER_RES_COMP_CMT_DEID_result$9\"\n",
    "echo \"$CMDPRE --textIdFields=\\\"ORDER_ID,CONTACT_DATE_REAL,LINE_COMP,LINE_COMMENT\\\" --textInputFields=\\\"RESULTS_COMP_CMT\\\" --inputResource=$2/input_v2/ORDER_RES_COMP_CMT_PHI/note-input-*.json --outputResource=$2/ORDER_RES_COMP_CMT_DEID_result$9\"\n",
    "echo \"#### DONE ####\""
   ]
  },
  {
   "cell_type": "markdown",
   "metadata": {},
   "source": [
    "## Step 3 : Load Result \n",
    "### load result to BigQuery"
   ]
  },
  {
   "cell_type": "code",
   "execution_count": null,
   "metadata": {},
   "outputs": [],
   "source": [
    "%%bash -s \"$TARGET_GCS_BUCKET_SHC\" \"$TARGET_GCS_BUCKET_LPCH\" \"$RESULT_DATASET_SHC\" \"$RESULT_DATASET_LPCH\"  \"$RUN_VERSION\"\n",
    "cd ..\n",
    "CMDPRE=\"bq --location=US load --autodetect  --source_format=NEWLINE_DELIMITED_JSON \"\n",
    "echo \"#### NOTE ####\"\n",
    "echo \"$CMDPRE $3.HNO_NOTE_TEXT_MERGED_DEIDED\" $1/NOTE_DEID_result$5/DeidNote* \n",
    "echo \"$CMDPRE $4.HNO_NOTE_TEXT_MERGED_DEIDED\" $2/NOTE_DEID_result$5/DeidNote*\n",
    "echo \"#### PAT_ENC_RSN_VISIT(ENCOUNTER) ####\"\n",
    "echo \"$CMDPRE $3.PAT_ENC_RSN_VISIT_DEID\" $1/PAT_ENC_RSN_VISIT_DEID_result$5/DeidNote*\n",
    "echo \"$CMDPRE $4.PAT_ENC_RSN_VISIT_DEID\" $2/PAT_ENC_RSN_VISIT_DEID_result$5/DeidNote* \n",
    "echo \"#### ORDER_IMPRESSION ####\"\n",
    "echo \"$CMDPRE $3.ORDER_IMPRESSION_DEID\" $1/ORDER_IMPRESSION_DEID_result$5/DeidNote*\n",
    "echo \"$CMDPRE $4.ORDER_IMPRESSION_DEID\" $2/ORDER_IMPRESSION_DEID_result$5/DeidNote*\n",
    "echo \"#### ORDER_NARRATIVE ####\"\n",
    "echo \"$CMDPRE $3.ORDER_NARRATIVE_DEID\" $1/ORDER_NARRATIVE_DEID_result$5/DeidNote*\n",
    "echo \"$CMDPRE $4.ORDER_NARRATIVE_DEID\" $2/ORDER_NARRATIVE_DEID_result$5/DeidNote*\n",
    "echo \"#### OR_LOG ####\"\n",
    "echo \"$CMDPRE $3.OR_LOG_ALL_PROC_DEID\" $1/OR_LOG_ALL_PROC_DEID_result$5/DeidNote*\n",
    "echo \"$CMDPRE $4.OR_LOG_ALL_PROC_DEID\" $2/OR_LOG_ALL_PROC_DEID_result$5/DeidNote*\n",
    "echo \"#### FLWSHT ####\"\n",
    "echo \"$CMDPRE $3.IP_FLWSHT_MEAS_DEID\" $1/IP_FLWSHT_MEAS_DEID_result$5/DeidNote*\n",
    "echo \"$CMDPRE $4.IP_FLWSHT_MEAS_DEID\" $2/IP_FLWSHT_MEAS_DEID_result$5/DeidNote*\n",
    "echo \"#### ORDER_RES_COMP_CMT ####\"\n",
    "echo \"$CMDPRE $3.ORDER_RES_COMP_CMT_DEID\" $1/ORDER_RES_COMP_CMT_DEID_result$5/DeidNote*\n",
    "echo \"$CMDPRE $4.ORDER_RES_COMP_CMT_DEID\" $2/ORDER_RES_COMP_CMT_DEID_result$5/DeidNote*\n",
    "echo \"###END###\""
   ]
  },
  {
   "cell_type": "markdown",
   "metadata": {},
   "source": [
    "### apply confidencial filter for note"
   ]
  },
  {
   "cell_type": "code",
   "execution_count": null,
   "metadata": {
    "scrolled": true
   },
   "outputs": [],
   "source": [
    "%%bash -s \"$TARGET_GCS_BUCKET_SHC\" \"$TARGET_GCS_BUCKET_LPCH\" \"$RESULT_DATASET_SHC\" \"$RESULT_DATASET_LPCH\"  \"$RUN_VERSION\"\n",
    "echo \"#### NOTE CONFIDENCIAL FILTER ###\"\n",
    "echo \"bash bq_final_confidencial_filter_note.sh $(echo $3 | sed -e 's/[:]/\\./').HNO_NOTE_TEXT_MERGED_DEIDED  $3.HNO_NOTE_TEXT_MERGED_DEIDED_FILTERED\"\n",
    "echo \"bash bq_final_confidencial_filter_note.sh $(echo $4 | sed -e 's/[:]/\\./').HNO_NOTE_TEXT_MERGED_DEIDED  $4.HNO_NOTE_TEXT_MERGED_DEIDED_FILTERED\""
   ]
  },
  {
   "cell_type": "code",
   "execution_count": null,
   "metadata": {},
   "outputs": [],
   "source": []
  }
 ],
 "metadata": {
  "kernelspec": {
   "display_name": "Python 3",
   "language": "python",
   "name": "python3"
  },
  "language_info": {
   "codemirror_mode": {
    "name": "ipython",
    "version": 3
   },
   "file_extension": ".py",
   "mimetype": "text/x-python",
   "name": "python",
   "nbconvert_exporter": "python",
   "pygments_lexer": "ipython3",
   "version": "3.7.1"
  }
 },
 "nbformat": 4,
 "nbformat_minor": 2
}
